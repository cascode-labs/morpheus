{
 "cells": [
  {
   "cell_type": "markdown",
   "metadata": {},
   "source": [
    "## Morpheus Maestro Example"
   ]
  },
  {
   "cell_type": "markdown",
   "metadata": {},
   "source": [
    "### Imports"
   ]
  },
  {
   "cell_type": "code",
   "execution_count": 2,
   "metadata": {},
   "outputs": [
    {
     "name": "stdout",
     "output_type": "stream",
     "text": [
      "/home/hessj/Automation/Git/morpheus/examples\n",
      "/home/hessj/Automation/Git/morpheus\n",
      "['/home/hessj/Automation/Git/morpheus/examples', '/prj/CadenceTraining/work_libs/hessj/miniconda3/envs/morpheus/lib/python311.zip', '/prj/CadenceTraining/work_libs/hessj/miniconda3/envs/morpheus/lib/python3.11', '/prj/CadenceTraining/work_libs/hessj/miniconda3/envs/morpheus/lib/python3.11/lib-dynload', '', '/prj/CadenceTraining/work_libs/hessj/miniconda3/envs/morpheus/lib/python3.11/site-packages', '/home/hessj/Automation/Git/morpheus', '/home/hessj/Automation/Git/morpheus']\n"
     ]
    }
   ],
   "source": [
    "#add parrent directory to path\n",
    "import sys\n",
    "import os.path\n",
    "print(os.getcwd())\n",
    "parentddir = os.path.abspath(os.path.pardir)\n",
    "print(parentddir) #get the parent directory (where morpheus is)\n",
    "sys.path.append(parentddir)\n",
    "print(sys.path)\n",
    "from skillbridge import Workspace\n",
    "from morpheus import *\n",
    "from morpheus.Maestro import *\n",
    "from morpheus.Config import  *"
   ]
  },
  {
   "cell_type": "markdown",
   "metadata": {},
   "source": [
    "### Global Dictionary and Definitions"
   ]
  },
  {
   "cell_type": "code",
   "execution_count": 3,
   "metadata": {},
   "outputs": [
    {
     "name": "stdout",
     "output_type": "stream",
     "text": [
      "Finding user.sysm.yml\n",
      "user config sysm loaded from /home/hessj/.morpheus/user.sysm.yml\n",
      "Finding opamp.test.yml\n",
      "opamp_test test loaded from /home/hessj/Automation/Git/morpheus/morpheus/Test_bench_definitions/Tests/opamp.test.yml\n"
     ]
    }
   ],
   "source": [
    "lib = \"morpheus_examples\"\n",
    "cell = \"morpheus_example_opamp_NB\"\n",
    "Global_Dict = {\n",
    "    \"DUTLIB\":lib,\n",
    "    \"DUTCELL\":\"opamp\"\n",
    "    }\n",
    "configFile = \"opamp\"\n",
    "maestro_config = config(configFile,Config.config_types.TEST)"
   ]
  },
  {
   "cell_type": "markdown",
   "metadata": {},
   "source": [
    "Open Skillbridge Workspace"
   ]
  },
  {
   "cell_type": "code",
   "execution_count": 4,
   "metadata": {},
   "outputs": [],
   "source": [
    "id = \"test\"\n",
    "ws = Workspace.open(id)"
   ]
  },
  {
   "cell_type": "markdown",
   "metadata": {},
   "source": [
    "### Create Maestro "
   ]
  },
  {
   "cell_type": "code",
   "execution_count": 5,
   "metadata": {},
   "outputs": [],
   "source": [
    "Testbench = maestro(ws, maestro_config, lib, Global_Dict)"
   ]
  },
  {
   "cell_type": "code",
   "execution_count": 6,
   "metadata": {},
   "outputs": [],
   "source": [
    "Testbench.open();"
   ]
  },
  {
   "cell_type": "code",
   "execution_count": 7,
   "metadata": {},
   "outputs": [
    {
     "data": {
      "text/plain": [
       "<morpheus.Maestro.maestro at 0x7f019c421d10>"
      ]
     },
     "execution_count": 7,
     "metadata": {},
     "output_type": "execute_result"
    }
   ],
   "source": [
    "Testbench"
   ]
  },
  {
   "cell_type": "code",
   "execution_count": 8,
   "metadata": {},
   "outputs": [],
   "source": [
    "Testbench.build = True;"
   ]
  },
  {
   "cell_type": "code",
   "execution_count": 9,
   "metadata": {},
   "outputs": [
    {
     "name": "stdout",
     "output_type": "stream",
     "text": [
      "Finding opamp.schem.yml\n",
      "OPAMP_Open_Loop schem loaded from /home/hessj/Automation/Git/morpheus/morpheus/Test_bench_definitions/Schematics/opamp.schem.yml\n",
      "completed elvaluation on DUT\n",
      "Evaluated all Instances\n",
      "Finding dc.term.yml\n",
      "DC term loaded from /home/hessj/Automation/Git/morpheus/morpheus/Test_bench_definitions/Terminals/dc.term.yml\n",
      "Finding dc.term.yml\n",
      "DC term loaded from /home/hessj/Automation/Git/morpheus/morpheus/Test_bench_definitions/Terminals/dc.term.yml\n",
      "Finding gnd.term.yml\n",
      "gnd term loaded from /home/hessj/Automation/Git/morpheus/morpheus/Test_bench_definitions/Terminals/gnd.term.yml\n",
      "Finding dc.term.yml\n",
      "DC term loaded from /home/hessj/Automation/Git/morpheus/morpheus/Test_bench_definitions/Terminals/dc.term.yml\n",
      "Finding res.term.yml\n",
      "RES term loaded from /home/hessj/Automation/Git/morpheus/morpheus/Test_bench_definitions/Terminals/res.term.yml\n",
      "Finding dc.term.yml\n",
      "DC term loaded from /home/hessj/Automation/Git/morpheus/morpheus/Test_bench_definitions/Terminals/dc.term.yml\n",
      "Finding dc.term.yml\n",
      "DC term loaded from /home/hessj/Automation/Git/morpheus/morpheus/Test_bench_definitions/Terminals/dc.term.yml\n",
      "Finding gnd.term.yml\n",
      "gnd term loaded from /home/hessj/Automation/Git/morpheus/morpheus/Test_bench_definitions/Terminals/gnd.term.yml\n",
      "Finding dc.term.yml\n",
      "DC term loaded from /home/hessj/Automation/Git/morpheus/morpheus/Test_bench_definitions/Terminals/dc.term.yml\n",
      "Finding res.term.yml\n",
      "RES term loaded from /home/hessj/Automation/Git/morpheus/morpheus/Test_bench_definitions/Terminals/res.term.yml\n",
      "Building!\n",
      "Skill loading vdc\n",
      "Skill loading gnd\n",
      "Skill loading res\n",
      "create test TEST1\n",
      "\n"
     ]
    },
    {
     "ename": "KeyError",
     "evalue": "'vdd'",
     "output_type": "error",
     "traceback": [
      "\u001b[0;31m---------------------------------------------------------------------------\u001b[0m",
      "\u001b[0;31mKeyError\u001b[0m                                  Traceback (most recent call last)",
      "\u001b[1;32m/home/hessj/Automation/Git/morpheus/examples/Maestro_example.ipynb Cell 13\u001b[0m line \u001b[0;36m1\n\u001b[0;32m----> <a href='vscode-notebook-cell://ssh-remote%2Buw-v-gpuint-052/home/hessj/Automation/Git/morpheus/examples/Maestro_example.ipynb#X15sdnNjb2RlLXJlbW90ZQ%3D%3D?line=0'>1</a>\u001b[0m Testbench\u001b[39m.\u001b[39;49mcreateTests();\n",
      "File \u001b[0;32m~/Automation/Git/morpheus/morpheus/Maestro.py:87\u001b[0m, in \u001b[0;36mmaestro.createTests\u001b[0;34m(self)\u001b[0m\n\u001b[1;32m     83\u001b[0m \u001b[39melse\u001b[39;00m: \u001b[39m#MULTITEST TODO\u001b[39;00m\n\u001b[1;32m     84\u001b[0m     \u001b[39mfor\u001b[39;00m test \u001b[39min\u001b[39;00m \u001b[39mself\u001b[39m\u001b[39m.\u001b[39mconfig\u001b[39m.\u001b[39mtests: \u001b[39m#create all tests in the test config\u001b[39;00m\n\u001b[1;32m     85\u001b[0m         \u001b[39m#self.createDictFromSchem(test)\u001b[39;00m\n\u001b[1;32m     86\u001b[0m         \u001b[39m#schematic = self.getSchematic(test)\u001b[39;00m\n\u001b[0;32m---> 87\u001b[0m         \u001b[39mself\u001b[39;49m\u001b[39m.\u001b[39;49mcreateTest(test) \n\u001b[1;32m     88\u001b[0m \u001b[39m#add variables (TODO break into new function)\u001b[39;00m\n\u001b[1;32m     89\u001b[0m \u001b[39mfor\u001b[39;00m var \u001b[39min\u001b[39;00m \u001b[39mself\u001b[39m\u001b[39m.\u001b[39mconfig\u001b[39m.\u001b[39mvariables: \n",
      "File \u001b[0;32m~/Automation/Git/morpheus/morpheus/Maestro.py:128\u001b[0m, in \u001b[0;36mmaestro.createTest\u001b[0;34m(self, test)\u001b[0m\n\u001b[1;32m    125\u001b[0m     \u001b[39mself\u001b[39m\u001b[39m.\u001b[39mcreateSignals(test)\n\u001b[1;32m    127\u001b[0m \u001b[39mif\u001b[39;00m(\u001b[39mhasattr\u001b[39m(test,\u001b[39m\"\u001b[39m\u001b[39mequations\u001b[39m\u001b[39m\"\u001b[39m)):   \n\u001b[0;32m--> 128\u001b[0m     \u001b[39mself\u001b[39;49m\u001b[39m.\u001b[39;49mcreateEquations(test)\n",
      "File \u001b[0;32m~/Automation/Git/morpheus/morpheus/Maestro.py:149\u001b[0m, in \u001b[0;36mmaestro.createEquations\u001b[0;34m(self, test)\u001b[0m\n\u001b[1;32m    146\u001b[0m \u001b[39mdef\u001b[39;00m \u001b[39mcreateEquations\u001b[39m(\u001b[39mself\u001b[39m, test):\n\u001b[1;32m    148\u001b[0m     \u001b[39mfor\u001b[39;00m equation \u001b[39min\u001b[39;00m test\u001b[39m.\u001b[39mequations:\n\u001b[0;32m--> 149\u001b[0m         \u001b[39mself\u001b[39;49m\u001b[39m.\u001b[39;49mcreateEquation(test, equation)\n",
      "File \u001b[0;32m~/Automation/Git/morpheus/morpheus/Maestro.py:160\u001b[0m, in \u001b[0;36mmaestro.createEquation\u001b[0;34m(self, test, equation)\u001b[0m\n\u001b[1;32m    158\u001b[0m         dictionary_definition \u001b[39m=\u001b[39m dictionary_definition[string]\n\u001b[1;32m    159\u001b[0m     \u001b[39melse\u001b[39;00m:\n\u001b[0;32m--> 160\u001b[0m         dictionary_definition \u001b[39m=\u001b[39m dictionary_definition\u001b[39m.\u001b[39;49m\u001b[39m__dict__\u001b[39;49m[string]\n\u001b[1;32m    161\u001b[0m \u001b[39mfor\u001b[39;00m iterable \u001b[39min\u001b[39;00m dictionary_definition:\n\u001b[1;32m    163\u001b[0m     tempDict \u001b[39m=\u001b[39m \u001b[39mself\u001b[39m\u001b[39m.\u001b[39mglobal_dict\u001b[39m.\u001b[39mcopy() \u001b[39m#MAKE COPY\u001b[39;00m\n",
      "\u001b[0;31mKeyError\u001b[0m: 'vdd'"
     ]
    }
   ],
   "source": [
    "Testbench.createTests();"
   ]
  }
 ],
 "metadata": {
  "kernelspec": {
   "display_name": "morpheus",
   "language": "python",
   "name": "python3"
  },
  "language_info": {
   "codemirror_mode": {
    "name": "ipython",
    "version": 3
   },
   "file_extension": ".py",
   "mimetype": "text/x-python",
   "name": "python",
   "nbconvert_exporter": "python",
   "pygments_lexer": "ipython3",
   "version": "3.11.9"
  }
 },
 "nbformat": 4,
 "nbformat_minor": 2
}
