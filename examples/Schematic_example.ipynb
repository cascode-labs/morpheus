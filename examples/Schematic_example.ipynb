{
 "cells": [
  {
   "cell_type": "markdown",
   "metadata": {},
   "source": [
    "## Morpheus Schematic Example"
   ]
  },
  {
   "cell_type": "markdown",
   "metadata": {},
   "source": [
    "### Imports"
   ]
  },
  {
   "cell_type": "code",
   "execution_count": 1,
   "metadata": {},
   "outputs": [
    {
     "name": "stdout",
     "output_type": "stream",
     "text": [
      "/home/hessj/Automation/Git/morpheus/examples\n",
      "/home/hessj/Automation/Git/morpheus\n",
      "['/home/hessj/Automation/Git/morpheus/examples', '/prj/CadenceTraining/work_libs/hessj/miniconda3/envs/morpheus/lib/python311.zip', '/prj/CadenceTraining/work_libs/hessj/miniconda3/envs/morpheus/lib/python3.11', '/prj/CadenceTraining/work_libs/hessj/miniconda3/envs/morpheus/lib/python3.11/lib-dynload', '', '/prj/CadenceTraining/work_libs/hessj/miniconda3/envs/morpheus/lib/python3.11/site-packages', '/home/hessj/Automation/Git/morpheus']\n",
      "morpheus init\n"
     ]
    }
   ],
   "source": [
    "#add parrent directory to path\n",
    "import sys\n",
    "import os.path\n",
    "print(os.getcwd())\n",
    "parentddir = os.path.abspath(os.path.pardir)\n",
    "print(parentddir) #get the parent directory (where morpheus is)\n",
    "sys.path.append(parentddir)\n",
    "print(sys.path)\n",
    "from skillbridge import Workspace\n",
    "from morpheus import *\n",
    "from morpheus.Schematic import *\n",
    "from morpheus.Config import  *"
   ]
  },
  {
   "cell_type": "markdown",
   "metadata": {},
   "source": [
    "### Global Dictionary and Definitions"
   ]
  },
  {
   "cell_type": "code",
   "execution_count": 2,
   "metadata": {},
   "outputs": [
    {
     "name": "stdout",
     "output_type": "stream",
     "text": [
      "Finding user.sysm.yml\n",
      "user config sysm loaded from /home/hessj/.morpheus/user.sysm.yml\n",
      "Finding opamp.schem.yml\n",
      "OPAMP_Open_Loop schem loaded from /home/hessj/Automation/Git/morpheus/morpheus/Test_bench_definitions/Schematics/opamp.schem.yml\n"
     ]
    }
   ],
   "source": [
    "lib = \"morpheus_examples\"\n",
    "cell = \"morpheus_example_opamp_NB\"\n",
    "Global_Dict = {\n",
    "    \"DUTLIB\":lib,\n",
    "    \"DUTCELL\":\"opamp\"\n",
    "    }\n",
    "configFile = \"opamp\"\n",
    "schematic_config = config(configFile,Config.config_types.SCHEMATIC)"
   ]
  },
  {
   "cell_type": "markdown",
   "metadata": {},
   "source": []
  },
  {
   "cell_type": "markdown",
   "metadata": {},
   "source": [
    "Open Skillbridge Workspace"
   ]
  },
  {
   "cell_type": "code",
   "execution_count": 3,
   "metadata": {},
   "outputs": [],
   "source": [
    "id = \"test\"\n",
    "ws = Workspace.open(id)"
   ]
  },
  {
   "cell_type": "code",
   "execution_count": 4,
   "metadata": {},
   "outputs": [
    {
     "name": "stdout",
     "output_type": "stream",
     "text": [
      "<morpheus.Config.config object at 0x7f9998f21b50>\n"
     ]
    }
   ],
   "source": [
    "print(schematic_config)"
   ]
  },
  {
   "cell_type": "markdown",
   "metadata": {},
   "source": [
    "### Create Schematic "
   ]
  },
  {
   "cell_type": "code",
   "execution_count": 5,
   "metadata": {},
   "outputs": [
    {
     "name": "stdout",
     "output_type": "stream",
     "text": [
      "completed elvaluation on DUT\n",
      "completed elvaluation on DUT2\n",
      "Evaluated all Instances\n"
     ]
    }
   ],
   "source": [
    "Testbench = schematic(ws, schematic_config, lib, Global_Dict)"
   ]
  },
  {
   "cell_type": "code",
   "execution_count": 6,
   "metadata": {},
   "outputs": [
    {
     "name": "stdout",
     "output_type": "stream",
     "text": [
      "completed elvaluation on DUT\n",
      "completed elvaluation on DUT2\n",
      "Evaluated all Instances\n"
     ]
    }
   ],
   "source": [
    "Testbench.evaluate();"
   ]
  },
  {
   "cell_type": "code",
   "execution_count": 7,
   "metadata": {},
   "outputs": [
    {
     "name": "stdout",
     "output_type": "stream",
     "text": [
      "Finding dc.term.yml\n",
      "DC term loaded from /home/hessj/Automation/Git/morpheus/morpheus/Test_bench_definitions/Terminals/dc.term.yml\n",
      "Finding dc.term.yml\n",
      "DC term loaded from /home/hessj/Automation/Git/morpheus/morpheus/Test_bench_definitions/Terminals/dc.term.yml\n",
      "Finding gnd.term.yml\n",
      "gnd term loaded from /home/hessj/Automation/Git/morpheus/morpheus/Test_bench_definitions/Terminals/gnd.term.yml\n",
      "Finding dc.term.yml\n",
      "DC term loaded from /home/hessj/Automation/Git/morpheus/morpheus/Test_bench_definitions/Terminals/dc.term.yml\n",
      "Finding res.term.yml\n",
      "RES term loaded from /home/hessj/Automation/Git/morpheus/morpheus/Test_bench_definitions/Terminals/res.term.yml\n",
      "Finding dc.term.yml\n",
      "DC term loaded from /home/hessj/Automation/Git/morpheus/morpheus/Test_bench_definitions/Terminals/dc.term.yml\n",
      "Finding dc.term.yml\n",
      "DC term loaded from /home/hessj/Automation/Git/morpheus/morpheus/Test_bench_definitions/Terminals/dc.term.yml\n",
      "Finding dc.term.yml\n",
      "DC term loaded from /home/hessj/Automation/Git/morpheus/morpheus/Test_bench_definitions/Terminals/dc.term.yml\n",
      "Finding dc.term.yml\n",
      "DC term loaded from /home/hessj/Automation/Git/morpheus/morpheus/Test_bench_definitions/Terminals/dc.term.yml\n",
      "Finding gnd.term.yml\n",
      "gnd term loaded from /home/hessj/Automation/Git/morpheus/morpheus/Test_bench_definitions/Terminals/gnd.term.yml\n",
      "Finding gnd.term.yml\n",
      "gnd term loaded from /home/hessj/Automation/Git/morpheus/morpheus/Test_bench_definitions/Terminals/gnd.term.yml\n",
      "Finding dc.term.yml\n",
      "DC term loaded from /home/hessj/Automation/Git/morpheus/morpheus/Test_bench_definitions/Terminals/dc.term.yml\n",
      "Finding dc.term.yml\n",
      "DC term loaded from /home/hessj/Automation/Git/morpheus/morpheus/Test_bench_definitions/Terminals/dc.term.yml\n",
      "Finding res.term.yml\n",
      "RES term loaded from /home/hessj/Automation/Git/morpheus/morpheus/Test_bench_definitions/Terminals/res.term.yml\n",
      "Finding res.term.yml\n",
      "RES term loaded from /home/hessj/Automation/Git/morpheus/morpheus/Test_bench_definitions/Terminals/res.term.yml\n",
      "Finding dc.term.yml\n",
      "DC term loaded from /home/hessj/Automation/Git/morpheus/morpheus/Test_bench_definitions/Terminals/dc.term.yml\n",
      "Finding dc.term.yml\n",
      "DC term loaded from /home/hessj/Automation/Git/morpheus/morpheus/Test_bench_definitions/Terminals/dc.term.yml\n",
      "Finding gnd.term.yml\n",
      "gnd term loaded from /home/hessj/Automation/Git/morpheus/morpheus/Test_bench_definitions/Terminals/gnd.term.yml\n",
      "Finding dc.term.yml\n",
      "DC term loaded from /home/hessj/Automation/Git/morpheus/morpheus/Test_bench_definitions/Terminals/dc.term.yml\n",
      "Finding res.term.yml\n",
      "RES term loaded from /home/hessj/Automation/Git/morpheus/morpheus/Test_bench_definitions/Terminals/res.term.yml\n"
     ]
    }
   ],
   "source": [
    "Testbench.plan();"
   ]
  },
  {
   "cell_type": "code",
   "execution_count": 8,
   "metadata": {},
   "outputs": [
    {
     "name": "stdout",
     "output_type": "stream",
     "text": [
      "Building!\n",
      "Skill loading vdc\n",
      "Skill loading gnd\n",
      "Skill loading res\n"
     ]
    },
    {
     "name": "stderr",
     "output_type": "stream",
     "text": [
      "Skill response:0: UserWarning:  (DB-270000): dbCreateParamInst: Instance with name 'V_vss' already exists.\n",
      "Skill response:0: UserWarning:  (DB-270000): dbCreateParamInst: Instance with name 'vss_gnd' already exists.\n",
      "Skill response:0: UserWarning:  (DB-270000): dbCreateParamInst: Instance with name 'V_vcc' already exists.\n",
      "Skill response:0: UserWarning:  (DB-270000): dbCreateParamInst: Instance with name 'vcc_gnd' already exists.\n",
      "Skill response:0: UserWarning:  (DB-270000): dbCreateParamInst: Instance with name 'v2_gnd' already exists.\n",
      "Skill response:0: UserWarning:  (DB-270000): dbCreateParamInst: Instance with name 'V_v1' already exists.\n",
      "Skill response:0: UserWarning:  (DB-270000): dbCreateParamInst: Instance with name 'v1_gnd' already exists.\n",
      "Skill response:0: UserWarning:  (DB-270000): dbCreateParamInst: Instance with name 'vo_res' already exists.\n",
      "Skill response:0: UserWarning:  (DB-270000): dbCreateParamInst: Instance with name 'vo_gnd' already exists.\n"
     ]
    }
   ],
   "source": [
    "Testbench.build();"
   ]
  },
  {
   "cell_type": "code",
   "execution_count": 9,
   "metadata": {},
   "outputs": [
    {
     "data": {
      "text/plain": [
       "'OPAMP_Open_Loop'"
      ]
     },
     "execution_count": 9,
     "metadata": {},
     "output_type": "execute_result"
    }
   ],
   "source": [
    "Testbench.cell"
   ]
  }
 ],
 "metadata": {
  "kernelspec": {
   "display_name": "morpheus",
   "language": "python",
   "name": "python3"
  },
  "language_info": {
   "codemirror_mode": {
    "name": "ipython",
    "version": 3
   },
   "file_extension": ".py",
   "mimetype": "text/x-python",
   "name": "python",
   "nbconvert_exporter": "python",
   "pygments_lexer": "ipython3",
   "version": "3.11.9"
  }
 },
 "nbformat": 4,
 "nbformat_minor": 2
}
